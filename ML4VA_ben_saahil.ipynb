{
  "nbformat": 4,
  "nbformat_minor": 0,
  "metadata": {
    "colab": {
      "name": "ML4VA_ben/saahil.ipynb",
      "provenance": [],
      "collapsed_sections": []
    },
    "kernelspec": {
      "name": "python3",
      "display_name": "Python 3"
    },
    "language_info": {
      "name": "python"
    },
    "accelerator": "GPU"
  },
  "cells": [
    {
      "cell_type": "code",
      "metadata": {
        "id": "-loB-goHhcot"
      },
      "source": [
        " import sklearn\n",
        "import numpy as np\n",
        "import os\n",
        "np.random.seed(42)\n",
        "%matplotlib inline\n",
        "import matplotlib as mpl\n",
        "import matplotlib.pyplot as plt\n",
        "mpl.rc('axes', labelsize=14)\n",
        "mpl.rc('xtick', labelsize=12)\n",
        "mpl.rc('ytick', labelsize=12)\n",
        "\n",
        "CRIME_PATH = os.path.join(\"drive\", \"MyDrive\")"
      ],
      "execution_count": null,
      "outputs": []
    },
    {
      "cell_type": "code",
      "metadata": {
        "colab": {
          "base_uri": "https://localhost:8080/",
          "height": 608
        },
        "id": "JQjXUkowhhTI",
        "outputId": "76b0c5d5-51f8-42ec-c991-7ef62c6588aa"
      },
      "source": [
        "import pandas as pd\n",
        "def load_crime_data(crime_path=CRIME_PATH):\n",
        "    \"\"\"Load Housing Data into Workspace from a CSV\"\"\"\n",
        "    if not os.path.isdir(crime_path):\n",
        "        os.makedirs(crime_path)\n",
        "    csv_path = os.path.join(CRIME_PATH, \"Crime_Data.csv\")\n",
        "    return pd.read_csv(csv_path)\n",
        "\n",
        "crime = load_crime_data()\n",
        "# Display the first n rows of the data. (n=5 by default, we will use 10 rows)\n",
        "crime.head(10)"
      ],
      "execution_count": null,
      "outputs": [
        {
          "output_type": "execute_result",
          "data": {
            "text/html": [
              "<div>\n",
              "<style scoped>\n",
              "    .dataframe tbody tr th:only-of-type {\n",
              "        vertical-align: middle;\n",
              "    }\n",
              "\n",
              "    .dataframe tbody tr th {\n",
              "        vertical-align: top;\n",
              "    }\n",
              "\n",
              "    .dataframe thead th {\n",
              "        text-align: right;\n",
              "    }\n",
              "</style>\n",
              "<table border=\"1\" class=\"dataframe\">\n",
              "  <thead>\n",
              "    <tr style=\"text-align: right;\">\n",
              "      <th></th>\n",
              "      <th>RecordID</th>\n",
              "      <th>Offense</th>\n",
              "      <th>IncidentID</th>\n",
              "      <th>BlockNumber</th>\n",
              "      <th>StreetName</th>\n",
              "      <th>Agency</th>\n",
              "      <th>DateReported</th>\n",
              "      <th>HourReported</th>\n",
              "      <th>ReportingOfficer</th>\n",
              "    </tr>\n",
              "  </thead>\n",
              "  <tbody>\n",
              "    <tr>\n",
              "      <th>0</th>\n",
              "      <td>1</td>\n",
              "      <td>Vandalism</td>\n",
              "      <td>202180000147</td>\n",
              "      <td>300.0</td>\n",
              "      <td>15TH ST NW</td>\n",
              "      <td>CPD</td>\n",
              "      <td>2021/10/05 00:05:05+00</td>\n",
              "      <td>2005</td>\n",
              "      <td>Pendleton, Eric</td>\n",
              "    </tr>\n",
              "    <tr>\n",
              "      <th>1</th>\n",
              "      <td>2</td>\n",
              "      <td>Suspicious Activity</td>\n",
              "      <td>202100028143</td>\n",
              "      <td>400.0</td>\n",
              "      <td>ALTAMONT ST</td>\n",
              "      <td>CPD</td>\n",
              "      <td>2021/10/04 21:38:10+00</td>\n",
              "      <td>1738</td>\n",
              "      <td>Green, Bryan</td>\n",
              "    </tr>\n",
              "    <tr>\n",
              "      <th>2</th>\n",
              "      <td>3</td>\n",
              "      <td>Larceny - All Other</td>\n",
              "      <td>202100028138</td>\n",
              "      <td>400.0</td>\n",
              "      <td>4TH ST NW, 224</td>\n",
              "      <td>CPD</td>\n",
              "      <td>2021/10/04 19:57:38+00</td>\n",
              "      <td>1557</td>\n",
              "      <td>Arreguin, Arron</td>\n",
              "    </tr>\n",
              "    <tr>\n",
              "      <th>3</th>\n",
              "      <td>4</td>\n",
              "      <td>Larceny - Of Veh Parts/Access</td>\n",
              "      <td>202100028134</td>\n",
              "      <td>NaN</td>\n",
              "      <td>GARRETT ST / 6TH ST SE</td>\n",
              "      <td>CPD</td>\n",
              "      <td>2021/10/04 19:44:49+00</td>\n",
              "      <td>1544</td>\n",
              "      <td>Via, Ryan</td>\n",
              "    </tr>\n",
              "    <tr>\n",
              "      <th>4</th>\n",
              "      <td>5</td>\n",
              "      <td>Larceny - Theft from Building</td>\n",
              "      <td>202100028128</td>\n",
              "      <td>200.0</td>\n",
              "      <td>14TH ST NW, 1</td>\n",
              "      <td>CPD</td>\n",
              "      <td>2021/10/04 19:25:05+00</td>\n",
              "      <td>1525</td>\n",
              "      <td>Chan, William</td>\n",
              "    </tr>\n",
              "    <tr>\n",
              "      <th>5</th>\n",
              "      <td>6</td>\n",
              "      <td>Hit and Run</td>\n",
              "      <td>202100028123</td>\n",
              "      <td>800.0</td>\n",
              "      <td>W MAIN ST</td>\n",
              "      <td>CPD</td>\n",
              "      <td>2021/10/04 18:53:25+00</td>\n",
              "      <td>1453</td>\n",
              "      <td>Tennyson, James</td>\n",
              "    </tr>\n",
              "    <tr>\n",
              "      <th>6</th>\n",
              "      <td>7</td>\n",
              "      <td>Vandalism</td>\n",
              "      <td>202180000146</td>\n",
              "      <td>2100.0</td>\n",
              "      <td>TARLETON DR</td>\n",
              "      <td>CPD</td>\n",
              "      <td>2021/10/04 18:22:42+00</td>\n",
              "      <td>1422</td>\n",
              "      <td>Moje, Ashley</td>\n",
              "    </tr>\n",
              "    <tr>\n",
              "      <th>7</th>\n",
              "      <td>8</td>\n",
              "      <td>Accident - w/out Injuries</td>\n",
              "      <td>202100028116</td>\n",
              "      <td>NaN</td>\n",
              "      <td>WATSON AVE @ 250 BYPASS</td>\n",
              "      <td>CPD</td>\n",
              "      <td>2021/10/04 18:10:48+00</td>\n",
              "      <td>1410</td>\n",
              "      <td>Burchardt, Rudy</td>\n",
              "    </tr>\n",
              "    <tr>\n",
              "      <th>8</th>\n",
              "      <td>9</td>\n",
              "      <td>Suspicious Activity</td>\n",
              "      <td>202100028113</td>\n",
              "      <td>1600.0</td>\n",
              "      <td>CEDAR HILL RD</td>\n",
              "      <td>CPD</td>\n",
              "      <td>2021/10/04 17:44:28+00</td>\n",
              "      <td>1344</td>\n",
              "      <td>Hamill, Annmarie</td>\n",
              "    </tr>\n",
              "    <tr>\n",
              "      <th>9</th>\n",
              "      <td>10</td>\n",
              "      <td>Fraud-impersonation</td>\n",
              "      <td>202100028118</td>\n",
              "      <td>300.0</td>\n",
              "      <td>MEADE AVE</td>\n",
              "      <td>CPD</td>\n",
              "      <td>2021/10/04 17:44:17+00</td>\n",
              "      <td>1344</td>\n",
              "      <td>Turner, Devon</td>\n",
              "    </tr>\n",
              "  </tbody>\n",
              "</table>\n",
              "</div>"
            ],
            "text/plain": [
              "   RecordID                        Offense  ...  HourReported  ReportingOfficer\n",
              "0         1                      Vandalism  ...          2005   Pendleton, Eric\n",
              "1         2            Suspicious Activity  ...          1738      Green, Bryan\n",
              "2         3            Larceny - All Other  ...          1557   Arreguin, Arron\n",
              "3         4  Larceny - Of Veh Parts/Access  ...          1544         Via, Ryan\n",
              "4         5  Larceny - Theft from Building  ...          1525     Chan, William\n",
              "5         6                    Hit and Run  ...          1453   Tennyson, James\n",
              "6         7                      Vandalism  ...          1422      Moje, Ashley\n",
              "7         8      Accident - w/out Injuries  ...          1410   Burchardt, Rudy\n",
              "8         9            Suspicious Activity  ...          1344  Hamill, Annmarie\n",
              "9        10            Fraud-impersonation  ...          1344     Turner, Devon\n",
              "\n",
              "[10 rows x 9 columns]"
            ]
          },
          "metadata": {},
          "execution_count": 7
        }
      ]
    },
    {
      "cell_type": "markdown",
      "metadata": {
        "id": "IhCOYGp7kzDL"
      },
      "source": [
        "Categorical attributes are:\n",
        "Offense\n",
        "StreetName\n",
        "Agency\n",
        "\n",
        "Going to drop:\n",
        "RecordID\n",
        "IncidentID\n",
        "DateReported\n",
        "Agency\n",
        "Reporting Officer"
      ]
    },
    {
      "cell_type": "code",
      "metadata": {
        "id": "LVL4Gp1wUK7V"
      },
      "source": [
        "import datetime\n",
        "crime[\"Year\"]=crime[\"DateReported\"].str[:4]\n",
        "crime[\"Month\"]=crime[\"DateReported\"].str[5:7]\n",
        "crime[\"Day\"]=crime[\"DateReported\"].str[8:10]\n",
        "crime[\"DOW\"] = pd.to_datetime(crime[\"Year\"]+\"/\"+crime[\"Month\"]+\"/\"+crime[\"Day\"])"
      ],
      "execution_count": null,
      "outputs": []
    },
    {
      "cell_type": "code",
      "metadata": {
        "id": "TkYni71xUlFr",
        "colab": {
          "base_uri": "https://localhost:8080/"
        },
        "outputId": "63552e0f-dfa0-4991-be84-36ce4cd9dcee"
      },
      "source": [
        "from pandas import Timestamp\n",
        "crime[\"DOW\"]=crime[\"DOW\"].apply(Timestamp.isoweekday)\n",
        "crime[\"DOW\"]"
      ],
      "execution_count": null,
      "outputs": [
        {
          "output_type": "execute_result",
          "data": {
            "text/plain": [
              "0        2\n",
              "1        1\n",
              "2        1\n",
              "3        1\n",
              "4        1\n",
              "        ..\n",
              "25657    5\n",
              "25658    5\n",
              "25659    5\n",
              "25660    5\n",
              "25661    5\n",
              "Name: DOW, Length: 25662, dtype: int64"
            ]
          },
          "metadata": {},
          "execution_count": 9
        }
      ]
    },
    {
      "cell_type": "code",
      "metadata": {
        "id": "4W4jWQUslfv8",
        "colab": {
          "base_uri": "https://localhost:8080/",
          "height": 423
        },
        "outputId": "dcad9398-5469-42c0-cea9-50f5a1f62f07"
      },
      "source": [
        "crime=crime.drop(\"RecordID\",axis=1)\n",
        "crime=crime.drop(\"IncidentID\",axis=1)\n",
        "crime=crime.drop(\"DateReported\",axis=1)\n",
        "crime=crime.drop(\"Day\",axis=1)\n",
        "crime=crime.drop(\"Agency\",axis=1)\n",
        "crime=crime.drop(\"ReportingOfficer\", axis=1)\n",
        "crime"
      ],
      "execution_count": null,
      "outputs": [
        {
          "output_type": "execute_result",
          "data": {
            "text/html": [
              "<div>\n",
              "<style scoped>\n",
              "    .dataframe tbody tr th:only-of-type {\n",
              "        vertical-align: middle;\n",
              "    }\n",
              "\n",
              "    .dataframe tbody tr th {\n",
              "        vertical-align: top;\n",
              "    }\n",
              "\n",
              "    .dataframe thead th {\n",
              "        text-align: right;\n",
              "    }\n",
              "</style>\n",
              "<table border=\"1\" class=\"dataframe\">\n",
              "  <thead>\n",
              "    <tr style=\"text-align: right;\">\n",
              "      <th></th>\n",
              "      <th>Offense</th>\n",
              "      <th>BlockNumber</th>\n",
              "      <th>StreetName</th>\n",
              "      <th>HourReported</th>\n",
              "      <th>Year</th>\n",
              "      <th>Month</th>\n",
              "      <th>DOW</th>\n",
              "    </tr>\n",
              "  </thead>\n",
              "  <tbody>\n",
              "    <tr>\n",
              "      <th>0</th>\n",
              "      <td>Vandalism</td>\n",
              "      <td>300.0</td>\n",
              "      <td>15TH ST NW</td>\n",
              "      <td>2005</td>\n",
              "      <td>2021</td>\n",
              "      <td>10</td>\n",
              "      <td>2</td>\n",
              "    </tr>\n",
              "    <tr>\n",
              "      <th>1</th>\n",
              "      <td>Suspicious Activity</td>\n",
              "      <td>400.0</td>\n",
              "      <td>ALTAMONT ST</td>\n",
              "      <td>1738</td>\n",
              "      <td>2021</td>\n",
              "      <td>10</td>\n",
              "      <td>1</td>\n",
              "    </tr>\n",
              "    <tr>\n",
              "      <th>2</th>\n",
              "      <td>Larceny - All Other</td>\n",
              "      <td>400.0</td>\n",
              "      <td>4TH ST NW, 224</td>\n",
              "      <td>1557</td>\n",
              "      <td>2021</td>\n",
              "      <td>10</td>\n",
              "      <td>1</td>\n",
              "    </tr>\n",
              "    <tr>\n",
              "      <th>3</th>\n",
              "      <td>Larceny - Of Veh Parts/Access</td>\n",
              "      <td>NaN</td>\n",
              "      <td>GARRETT ST / 6TH ST SE</td>\n",
              "      <td>1544</td>\n",
              "      <td>2021</td>\n",
              "      <td>10</td>\n",
              "      <td>1</td>\n",
              "    </tr>\n",
              "    <tr>\n",
              "      <th>4</th>\n",
              "      <td>Larceny - Theft from Building</td>\n",
              "      <td>200.0</td>\n",
              "      <td>14TH ST NW, 1</td>\n",
              "      <td>1525</td>\n",
              "      <td>2021</td>\n",
              "      <td>10</td>\n",
              "      <td>1</td>\n",
              "    </tr>\n",
              "    <tr>\n",
              "      <th>...</th>\n",
              "      <td>...</td>\n",
              "      <td>...</td>\n",
              "      <td>...</td>\n",
              "      <td>...</td>\n",
              "      <td>...</td>\n",
              "      <td>...</td>\n",
              "      <td>...</td>\n",
              "    </tr>\n",
              "    <tr>\n",
              "      <th>25657</th>\n",
              "      <td>Assault Simple</td>\n",
              "      <td>100.0</td>\n",
              "      <td>LANKFORD AVE, 3</td>\n",
              "      <td>720</td>\n",
              "      <td>2016</td>\n",
              "      <td>10</td>\n",
              "      <td>5</td>\n",
              "    </tr>\n",
              "    <tr>\n",
              "      <th>25658</th>\n",
              "      <td>Assist Citizen - Mental/TDO/ECO</td>\n",
              "      <td>2500.0</td>\n",
              "      <td>WILLARD DR</td>\n",
              "      <td>659</td>\n",
              "      <td>2016</td>\n",
              "      <td>10</td>\n",
              "      <td>5</td>\n",
              "    </tr>\n",
              "    <tr>\n",
              "      <th>25659</th>\n",
              "      <td>Assault Simple</td>\n",
              "      <td>100.0</td>\n",
              "      <td>14TH ST NW, B</td>\n",
              "      <td>608</td>\n",
              "      <td>2016</td>\n",
              "      <td>10</td>\n",
              "      <td>5</td>\n",
              "    </tr>\n",
              "    <tr>\n",
              "      <th>25660</th>\n",
              "      <td>Assault Simple</td>\n",
              "      <td>1500.0</td>\n",
              "      <td>UNIVERSITY AVE</td>\n",
              "      <td>531</td>\n",
              "      <td>2016</td>\n",
              "      <td>10</td>\n",
              "      <td>5</td>\n",
              "    </tr>\n",
              "    <tr>\n",
              "      <th>25661</th>\n",
              "      <td>Found/Recovered Property</td>\n",
              "      <td>1400.0</td>\n",
              "      <td>UNIVERSITY AVE</td>\n",
              "      <td>52</td>\n",
              "      <td>2016</td>\n",
              "      <td>10</td>\n",
              "      <td>5</td>\n",
              "    </tr>\n",
              "  </tbody>\n",
              "</table>\n",
              "<p>25662 rows × 7 columns</p>\n",
              "</div>"
            ],
            "text/plain": [
              "                               Offense  BlockNumber  ... Month  DOW\n",
              "0                            Vandalism        300.0  ...    10    2\n",
              "1                  Suspicious Activity        400.0  ...    10    1\n",
              "2                  Larceny - All Other        400.0  ...    10    1\n",
              "3        Larceny - Of Veh Parts/Access          NaN  ...    10    1\n",
              "4        Larceny - Theft from Building        200.0  ...    10    1\n",
              "...                                ...          ...  ...   ...  ...\n",
              "25657                   Assault Simple        100.0  ...    10    5\n",
              "25658  Assist Citizen - Mental/TDO/ECO       2500.0  ...    10    5\n",
              "25659                   Assault Simple        100.0  ...    10    5\n",
              "25660                   Assault Simple       1500.0  ...    10    5\n",
              "25661         Found/Recovered Property       1400.0  ...    10    5\n",
              "\n",
              "[25662 rows x 7 columns]"
            ]
          },
          "metadata": {},
          "execution_count": 10
        }
      ]
    },
    {
      "cell_type": "code",
      "metadata": {
        "id": "6BfnQhsp9zwH"
      },
      "source": [
        "crime['HourReported']=crime['HourReported'].div(10000).round(2).div(1/100)"
      ],
      "execution_count": null,
      "outputs": []
    },
    {
      "cell_type": "code",
      "metadata": {
        "id": "B9Jow3OZihrb",
        "colab": {
          "base_uri": "https://localhost:8080/",
          "height": 300
        },
        "outputId": "4d1eb953-fe09-4a28-90af-6ea850939b05"
      },
      "source": [
        "crime.describe()"
      ],
      "execution_count": null,
      "outputs": [
        {
          "output_type": "execute_result",
          "data": {
            "text/html": [
              "<div>\n",
              "<style scoped>\n",
              "    .dataframe tbody tr th:only-of-type {\n",
              "        vertical-align: middle;\n",
              "    }\n",
              "\n",
              "    .dataframe tbody tr th {\n",
              "        vertical-align: top;\n",
              "    }\n",
              "\n",
              "    .dataframe thead th {\n",
              "        text-align: right;\n",
              "    }\n",
              "</style>\n",
              "<table border=\"1\" class=\"dataframe\">\n",
              "  <thead>\n",
              "    <tr style=\"text-align: right;\">\n",
              "      <th></th>\n",
              "      <th>BlockNumber</th>\n",
              "      <th>HourReported</th>\n",
              "      <th>DOW</th>\n",
              "    </tr>\n",
              "  </thead>\n",
              "  <tbody>\n",
              "    <tr>\n",
              "      <th>count</th>\n",
              "      <td>24610.000000</td>\n",
              "      <td>25662.000000</td>\n",
              "      <td>25662.000000</td>\n",
              "    </tr>\n",
              "    <tr>\n",
              "      <th>mean</th>\n",
              "      <td>854.896384</td>\n",
              "      <td>13.190203</td>\n",
              "      <td>3.940418</td>\n",
              "    </tr>\n",
              "    <tr>\n",
              "      <th>std</th>\n",
              "      <td>613.298750</td>\n",
              "      <td>6.138556</td>\n",
              "      <td>1.979907</td>\n",
              "    </tr>\n",
              "    <tr>\n",
              "      <th>min</th>\n",
              "      <td>0.000000</td>\n",
              "      <td>0.000000</td>\n",
              "      <td>1.000000</td>\n",
              "    </tr>\n",
              "    <tr>\n",
              "      <th>25%</th>\n",
              "      <td>300.000000</td>\n",
              "      <td>9.000000</td>\n",
              "      <td>2.000000</td>\n",
              "    </tr>\n",
              "    <tr>\n",
              "      <th>50%</th>\n",
              "      <td>700.000000</td>\n",
              "      <td>14.000000</td>\n",
              "      <td>4.000000</td>\n",
              "    </tr>\n",
              "    <tr>\n",
              "      <th>75%</th>\n",
              "      <td>1200.000000</td>\n",
              "      <td>18.000000</td>\n",
              "      <td>6.000000</td>\n",
              "    </tr>\n",
              "    <tr>\n",
              "      <th>max</th>\n",
              "      <td>9100.000000</td>\n",
              "      <td>24.000000</td>\n",
              "      <td>7.000000</td>\n",
              "    </tr>\n",
              "  </tbody>\n",
              "</table>\n",
              "</div>"
            ],
            "text/plain": [
              "        BlockNumber  HourReported           DOW\n",
              "count  24610.000000  25662.000000  25662.000000\n",
              "mean     854.896384     13.190203      3.940418\n",
              "std      613.298750      6.138556      1.979907\n",
              "min        0.000000      0.000000      1.000000\n",
              "25%      300.000000      9.000000      2.000000\n",
              "50%      700.000000     14.000000      4.000000\n",
              "75%     1200.000000     18.000000      6.000000\n",
              "max     9100.000000     24.000000      7.000000"
            ]
          },
          "metadata": {},
          "execution_count": 12
        }
      ]
    },
    {
      "cell_type": "code",
      "metadata": {
        "id": "JwNQ2X-kisfD"
      },
      "source": [
        "from sklearn.model_selection import train_test_split\n",
        "# Split the data into train set (80%) and test set (20%)\n",
        "train_set, test_set = train_test_split(crime, test_size=0.2, random_state=42)"
      ],
      "execution_count": null,
      "outputs": []
    },
    {
      "cell_type": "code",
      "metadata": {
        "id": "wt1OjCUCivFh",
        "colab": {
          "base_uri": "https://localhost:8080/"
        },
        "outputId": "b68ce23a-c2ca-4316-d477-d31802137bbd"
      },
      "source": [
        "print( train_set.shape )\n",
        "print( test_set.shape )"
      ],
      "execution_count": null,
      "outputs": [
        {
          "output_type": "stream",
          "name": "stdout",
          "text": [
            "(20529, 7)\n",
            "(5133, 7)\n"
          ]
        }
      ]
    },
    {
      "cell_type": "code",
      "metadata": {
        "id": "Brfp6TmVnKK1"
      },
      "source": [
        "crime=train_set.drop(\"HourReported\",axis=1)\n",
        "crime_test=test_set.drop(\"HourReported\",axis=1)\n",
        "test_labels=test_set[\"HourReported\"].copy()\n",
        "crime_labels=train_set[\"HourReported\"].copy()"
      ],
      "execution_count": null,
      "outputs": []
    },
    {
      "cell_type": "code",
      "metadata": {
        "id": "Cs8W31jYnSt5",
        "colab": {
          "base_uri": "https://localhost:8080/",
          "height": 423
        },
        "outputId": "c666e852-b203-4dc3-d4de-0352f92f8318"
      },
      "source": [
        "sample_incomplete_rows = crime[crime.isnull().any(axis=1)]\n",
        "sample_incomplete_rows"
      ],
      "execution_count": null,
      "outputs": [
        {
          "output_type": "execute_result",
          "data": {
            "text/html": [
              "<div>\n",
              "<style scoped>\n",
              "    .dataframe tbody tr th:only-of-type {\n",
              "        vertical-align: middle;\n",
              "    }\n",
              "\n",
              "    .dataframe tbody tr th {\n",
              "        vertical-align: top;\n",
              "    }\n",
              "\n",
              "    .dataframe thead th {\n",
              "        text-align: right;\n",
              "    }\n",
              "</style>\n",
              "<table border=\"1\" class=\"dataframe\">\n",
              "  <thead>\n",
              "    <tr style=\"text-align: right;\">\n",
              "      <th></th>\n",
              "      <th>Offense</th>\n",
              "      <th>BlockNumber</th>\n",
              "      <th>StreetName</th>\n",
              "      <th>Year</th>\n",
              "      <th>Month</th>\n",
              "      <th>DOW</th>\n",
              "    </tr>\n",
              "  </thead>\n",
              "  <tbody>\n",
              "    <tr>\n",
              "      <th>4949</th>\n",
              "      <td>Harassment</td>\n",
              "      <td>NaN</td>\n",
              "      <td>ELLIEWOOD AVE</td>\n",
              "      <td>2020</td>\n",
              "      <td>08</td>\n",
              "      <td>7</td>\n",
              "    </tr>\n",
              "    <tr>\n",
              "      <th>3106</th>\n",
              "      <td>Assault Intimidation</td>\n",
              "      <td>NaN</td>\n",
              "      <td>BARRACKS RD / EMMET ST N</td>\n",
              "      <td>2021</td>\n",
              "      <td>02</td>\n",
              "      <td>3</td>\n",
              "    </tr>\n",
              "    <tr>\n",
              "      <th>6717</th>\n",
              "      <td>Drug/Narcotics Violation</td>\n",
              "      <td>NaN</td>\n",
              "      <td>GARRETT ST / GLEASON ST</td>\n",
              "      <td>2020</td>\n",
              "      <td>03</td>\n",
              "      <td>2</td>\n",
              "    </tr>\n",
              "    <tr>\n",
              "      <th>3208</th>\n",
              "      <td>Lost/FoundProperty</td>\n",
              "      <td>NaN</td>\n",
              "      <td>14TH ST NW / W MAIN ST</td>\n",
              "      <td>2021</td>\n",
              "      <td>02</td>\n",
              "      <td>7</td>\n",
              "    </tr>\n",
              "    <tr>\n",
              "      <th>4879</th>\n",
              "      <td>Vandalism</td>\n",
              "      <td>NaN</td>\n",
              "      <td>CHANCELLOR ST</td>\n",
              "      <td>2020</td>\n",
              "      <td>09</td>\n",
              "      <td>6</td>\n",
              "    </tr>\n",
              "    <tr>\n",
              "      <th>...</th>\n",
              "      <td>...</td>\n",
              "      <td>...</td>\n",
              "      <td>...</td>\n",
              "      <td>...</td>\n",
              "      <td>...</td>\n",
              "      <td>...</td>\n",
              "    </tr>\n",
              "    <tr>\n",
              "      <th>161</th>\n",
              "      <td>Lost/FoundProperty</td>\n",
              "      <td>NaN</td>\n",
              "      <td>8TH ST NW @ ANDERSON ST</td>\n",
              "      <td>2021</td>\n",
              "      <td>09</td>\n",
              "      <td>5</td>\n",
              "    </tr>\n",
              "    <tr>\n",
              "      <th>21870</th>\n",
              "      <td>Larceny - Theft from Building</td>\n",
              "      <td>NaN</td>\n",
              "      <td>MORTON DR</td>\n",
              "      <td>2017</td>\n",
              "      <td>05</td>\n",
              "      <td>5</td>\n",
              "    </tr>\n",
              "    <tr>\n",
              "      <th>8666</th>\n",
              "      <td>Hit and Run</td>\n",
              "      <td>NaN</td>\n",
              "      <td>5TH ST SW / 5TH STREET STATION PKWY</td>\n",
              "      <td>2019</td>\n",
              "      <td>10</td>\n",
              "      <td>4</td>\n",
              "    </tr>\n",
              "    <tr>\n",
              "      <th>769</th>\n",
              "      <td>Assault Simple</td>\n",
              "      <td>NaN</td>\n",
              "      <td>PROSPECT AVE</td>\n",
              "      <td>2021</td>\n",
              "      <td>08</td>\n",
              "      <td>4</td>\n",
              "    </tr>\n",
              "    <tr>\n",
              "      <th>11964</th>\n",
              "      <td>Hit and Run</td>\n",
              "      <td>NaN</td>\n",
              "      <td>RIDGE ST / MONTICELLO AVE</td>\n",
              "      <td>2019</td>\n",
              "      <td>03</td>\n",
              "      <td>6</td>\n",
              "    </tr>\n",
              "  </tbody>\n",
              "</table>\n",
              "<p>844 rows × 6 columns</p>\n",
              "</div>"
            ],
            "text/plain": [
              "                             Offense  BlockNumber  ... Month DOW\n",
              "4949                      Harassment          NaN  ...    08   7\n",
              "3106            Assault Intimidation          NaN  ...    02   3\n",
              "6717        Drug/Narcotics Violation          NaN  ...    03   2\n",
              "3208              Lost/FoundProperty          NaN  ...    02   7\n",
              "4879                       Vandalism          NaN  ...    09   6\n",
              "...                              ...          ...  ...   ...  ..\n",
              "161               Lost/FoundProperty          NaN  ...    09   5\n",
              "21870  Larceny - Theft from Building          NaN  ...    05   5\n",
              "8666                     Hit and Run          NaN  ...    10   4\n",
              "769                   Assault Simple          NaN  ...    08   4\n",
              "11964                    Hit and Run          NaN  ...    03   6\n",
              "\n",
              "[844 rows x 6 columns]"
            ]
          },
          "metadata": {},
          "execution_count": 16
        }
      ]
    },
    {
      "cell_type": "code",
      "metadata": {
        "id": "EYcb20fw2QIJ"
      },
      "source": [
        "from sklearn.impute import SimpleImputer\n",
        "imputer = SimpleImputer(strategy=\"most_frequent\")"
      ],
      "execution_count": null,
      "outputs": []
    },
    {
      "cell_type": "code",
      "metadata": {
        "id": "u1gN89502l1i",
        "colab": {
          "base_uri": "https://localhost:8080/"
        },
        "outputId": "d75250a3-7c24-4358-ff73-9f44af8faca7"
      },
      "source": [
        "imputer.fit(crime)"
      ],
      "execution_count": null,
      "outputs": [
        {
          "output_type": "execute_result",
          "data": {
            "text/plain": [
              "SimpleImputer(strategy='most_frequent')"
            ]
          },
          "metadata": {},
          "execution_count": 18
        }
      ]
    },
    {
      "cell_type": "code",
      "metadata": {
        "id": "_nwcIYWi2rJB",
        "colab": {
          "base_uri": "https://localhost:8080/"
        },
        "outputId": "cc794477-c6d2-48f8-cff0-61d4e0bb3ba5"
      },
      "source": [
        "imputer.statistics_"
      ],
      "execution_count": null,
      "outputs": [
        {
          "output_type": "execute_result",
          "data": {
            "text/plain": [
              "array(['Assault Simple', 100.0, 'E MARKET ST', '2017', '10', 5],\n",
              "      dtype=object)"
            ]
          },
          "metadata": {},
          "execution_count": 19
        }
      ]
    },
    {
      "cell_type": "code",
      "metadata": {
        "id": "4wGXScu02vSi",
        "colab": {
          "base_uri": "https://localhost:8080/"
        },
        "outputId": "fe4492f0-66f3-4cb8-f35b-f40e58b0906b"
      },
      "source": [
        "X = imputer.transform(crime)\n",
        "print(X)"
      ],
      "execution_count": null,
      "outputs": [
        {
          "output_type": "stream",
          "name": "stdout",
          "text": [
            "[['Larceny - Of Veh Parts/Access' 600.0 'LEXINGTON AVE' '2021' '07' 4]\n",
            " ['Hit and Run' 600.0 'RAINIER RD' '2016' '10' 4]\n",
            " ['Vandalism' 500.0 '7 1/2 ST SW' '2017' '06' 4]\n",
            " ...\n",
            " ['Assault Simple' 700.0 'PROSPECT AVE, E' '2021' '08' 5]\n",
            " ['Assist Citizen - Mental/TDO/ECO' 700.0 'RIDGE ST' '2018' '05' 4]\n",
            " ['Vandalism' 700.0 'PROSPECT AVE, C' '2017' '01' 3]]\n"
          ]
        }
      ]
    },
    {
      "cell_type": "code",
      "metadata": {
        "id": "qsqkeLih2xW6"
      },
      "source": [
        "crime_tr=pd.DataFrame(X, columns=crime.columns,\n",
        "                          index=crime.index)\n",
        "crime=crime_tr.copy()"
      ],
      "execution_count": null,
      "outputs": []
    },
    {
      "cell_type": "code",
      "metadata": {
        "id": "fDnGpW8p2_CN",
        "colab": {
          "base_uri": "https://localhost:8080/",
          "height": 423
        },
        "outputId": "924f4805-6ac6-4111-faf3-c2959e2fdfe2"
      },
      "source": [
        "crime_tr.loc[sample_incomplete_rows.index.values]"
      ],
      "execution_count": null,
      "outputs": [
        {
          "output_type": "execute_result",
          "data": {
            "text/html": [
              "<div>\n",
              "<style scoped>\n",
              "    .dataframe tbody tr th:only-of-type {\n",
              "        vertical-align: middle;\n",
              "    }\n",
              "\n",
              "    .dataframe tbody tr th {\n",
              "        vertical-align: top;\n",
              "    }\n",
              "\n",
              "    .dataframe thead th {\n",
              "        text-align: right;\n",
              "    }\n",
              "</style>\n",
              "<table border=\"1\" class=\"dataframe\">\n",
              "  <thead>\n",
              "    <tr style=\"text-align: right;\">\n",
              "      <th></th>\n",
              "      <th>Offense</th>\n",
              "      <th>BlockNumber</th>\n",
              "      <th>StreetName</th>\n",
              "      <th>Year</th>\n",
              "      <th>Month</th>\n",
              "      <th>DOW</th>\n",
              "    </tr>\n",
              "  </thead>\n",
              "  <tbody>\n",
              "    <tr>\n",
              "      <th>4949</th>\n",
              "      <td>Harassment</td>\n",
              "      <td>100</td>\n",
              "      <td>ELLIEWOOD AVE</td>\n",
              "      <td>2020</td>\n",
              "      <td>08</td>\n",
              "      <td>7</td>\n",
              "    </tr>\n",
              "    <tr>\n",
              "      <th>3106</th>\n",
              "      <td>Assault Intimidation</td>\n",
              "      <td>100</td>\n",
              "      <td>BARRACKS RD / EMMET ST N</td>\n",
              "      <td>2021</td>\n",
              "      <td>02</td>\n",
              "      <td>3</td>\n",
              "    </tr>\n",
              "    <tr>\n",
              "      <th>6717</th>\n",
              "      <td>Drug/Narcotics Violation</td>\n",
              "      <td>100</td>\n",
              "      <td>GARRETT ST / GLEASON ST</td>\n",
              "      <td>2020</td>\n",
              "      <td>03</td>\n",
              "      <td>2</td>\n",
              "    </tr>\n",
              "    <tr>\n",
              "      <th>3208</th>\n",
              "      <td>Lost/FoundProperty</td>\n",
              "      <td>100</td>\n",
              "      <td>14TH ST NW / W MAIN ST</td>\n",
              "      <td>2021</td>\n",
              "      <td>02</td>\n",
              "      <td>7</td>\n",
              "    </tr>\n",
              "    <tr>\n",
              "      <th>4879</th>\n",
              "      <td>Vandalism</td>\n",
              "      <td>100</td>\n",
              "      <td>CHANCELLOR ST</td>\n",
              "      <td>2020</td>\n",
              "      <td>09</td>\n",
              "      <td>6</td>\n",
              "    </tr>\n",
              "    <tr>\n",
              "      <th>...</th>\n",
              "      <td>...</td>\n",
              "      <td>...</td>\n",
              "      <td>...</td>\n",
              "      <td>...</td>\n",
              "      <td>...</td>\n",
              "      <td>...</td>\n",
              "    </tr>\n",
              "    <tr>\n",
              "      <th>161</th>\n",
              "      <td>Lost/FoundProperty</td>\n",
              "      <td>100</td>\n",
              "      <td>8TH ST NW @ ANDERSON ST</td>\n",
              "      <td>2021</td>\n",
              "      <td>09</td>\n",
              "      <td>5</td>\n",
              "    </tr>\n",
              "    <tr>\n",
              "      <th>21870</th>\n",
              "      <td>Larceny - Theft from Building</td>\n",
              "      <td>100</td>\n",
              "      <td>MORTON DR</td>\n",
              "      <td>2017</td>\n",
              "      <td>05</td>\n",
              "      <td>5</td>\n",
              "    </tr>\n",
              "    <tr>\n",
              "      <th>8666</th>\n",
              "      <td>Hit and Run</td>\n",
              "      <td>100</td>\n",
              "      <td>5TH ST SW / 5TH STREET STATION PKWY</td>\n",
              "      <td>2019</td>\n",
              "      <td>10</td>\n",
              "      <td>4</td>\n",
              "    </tr>\n",
              "    <tr>\n",
              "      <th>769</th>\n",
              "      <td>Assault Simple</td>\n",
              "      <td>100</td>\n",
              "      <td>PROSPECT AVE</td>\n",
              "      <td>2021</td>\n",
              "      <td>08</td>\n",
              "      <td>4</td>\n",
              "    </tr>\n",
              "    <tr>\n",
              "      <th>11964</th>\n",
              "      <td>Hit and Run</td>\n",
              "      <td>100</td>\n",
              "      <td>RIDGE ST / MONTICELLO AVE</td>\n",
              "      <td>2019</td>\n",
              "      <td>03</td>\n",
              "      <td>6</td>\n",
              "    </tr>\n",
              "  </tbody>\n",
              "</table>\n",
              "<p>844 rows × 6 columns</p>\n",
              "</div>"
            ],
            "text/plain": [
              "                             Offense BlockNumber  ... Month DOW\n",
              "4949                      Harassment         100  ...    08   7\n",
              "3106            Assault Intimidation         100  ...    02   3\n",
              "6717        Drug/Narcotics Violation         100  ...    03   2\n",
              "3208              Lost/FoundProperty         100  ...    02   7\n",
              "4879                       Vandalism         100  ...    09   6\n",
              "...                              ...         ...  ...   ...  ..\n",
              "161               Lost/FoundProperty         100  ...    09   5\n",
              "21870  Larceny - Theft from Building         100  ...    05   5\n",
              "8666                     Hit and Run         100  ...    10   4\n",
              "769                   Assault Simple         100  ...    08   4\n",
              "11964                    Hit and Run         100  ...    03   6\n",
              "\n",
              "[844 rows x 6 columns]"
            ]
          },
          "metadata": {},
          "execution_count": 22
        }
      ]
    },
    {
      "cell_type": "code",
      "metadata": {
        "id": "3AL9BA8cu_Fm",
        "colab": {
          "base_uri": "https://localhost:8080/"
        },
        "outputId": "064a7f77-4aaa-42dc-ff50-b3ebe7ea93ac"
      },
      "source": [
        "from sklearn.preprocessing import OrdinalEncoder\n",
        "crime_catO=crime[[\"Offense\"]]\n",
        "ordinal_encoderO = OrdinalEncoder()\n",
        "crime_catO_encoded = ordinal_encoderO.fit_transform(crime_catO)\n",
        "len(np.unique(crime_catO_encoded))"
      ],
      "execution_count": null,
      "outputs": [
        {
          "output_type": "execute_result",
          "data": {
            "text/plain": [
              "119"
            ]
          },
          "metadata": {},
          "execution_count": 23
        }
      ]
    },
    {
      "cell_type": "code",
      "metadata": {
        "id": "ztz6pgcxwGsV"
      },
      "source": [
        "ordinal_encoderO.categories_"
      ],
      "execution_count": null,
      "outputs": []
    },
    {
      "cell_type": "code",
      "metadata": {
        "id": "iyhB0ja-vpcT",
        "colab": {
          "base_uri": "https://localhost:8080/"
        },
        "outputId": "6a514e7d-6ab3-4082-b5f7-99ef3b8f4294"
      },
      "source": [
        "crime_catS=crime[[\"StreetName\"]]\n",
        "ordinal_encoderS = OrdinalEncoder()\n",
        "crime_catS_encoded = ordinal_encoderS.fit_transform(crime_catS)\n",
        "crime_catS_encoded[:10]"
      ],
      "execution_count": null,
      "outputs": [
        {
          "output_type": "execute_result",
          "data": {
            "text/plain": [
              "array([[1616.],\n",
              "       [2167.],\n",
              "       [ 409.],\n",
              "       [1292.],\n",
              "       [ 227.],\n",
              "       [2247.],\n",
              "       [2008.],\n",
              "       [1751.],\n",
              "       [  47.],\n",
              "       [1178.]])"
            ]
          },
          "metadata": {},
          "execution_count": 25
        }
      ]
    },
    {
      "cell_type": "code",
      "metadata": {
        "id": "WwBGpLBvwiJi",
        "colab": {
          "base_uri": "https://localhost:8080/"
        },
        "outputId": "410c1a00-2ca1-4a99-bd04-0d87e0f9f3b6"
      },
      "source": [
        "ordinal_encoderS.categories_[0]"
      ],
      "execution_count": null,
      "outputs": [
        {
          "output_type": "execute_result",
          "data": {
            "text/plain": [
              "array(['-78.4659036420000000', '-78.4693344960000000',\n",
              "       '-78.4748563960000000', ..., 'YELLOWSTONE DR, 202-140',\n",
              "       'YORKTOWN DR', 'ZAN RD'], dtype=object)"
            ]
          },
          "metadata": {},
          "execution_count": 26
        }
      ]
    },
    {
      "cell_type": "code",
      "metadata": {
        "id": "EnjmVCFD3Zhn"
      },
      "source": [
        "from sklearn.preprocessing import OneHotEncoder\n",
        "\n",
        "catO_encoder = OneHotEncoder()\n",
        "crime_catO_1hot = catO_encoder.fit_transform(crime_catO)\n",
        "catS_encoder = OneHotEncoder()\n",
        "crime_catS_1hot = catS_encoder.fit_transform(crime_catS)\n"
      ],
      "execution_count": null,
      "outputs": []
    },
    {
      "cell_type": "code",
      "metadata": {
        "id": "2LmZpy7431n2",
        "colab": {
          "base_uri": "https://localhost:8080/"
        },
        "outputId": "2f459abd-5e08-4354-cae2-d8034ee0f7bc"
      },
      "source": [
        "crime_catO_1hot.toarray()"
      ],
      "execution_count": null,
      "outputs": [
        {
          "output_type": "execute_result",
          "data": {
            "text/plain": [
              "array([[0., 0., 0., ..., 0., 0., 0.],\n",
              "       [0., 0., 0., ..., 0., 0., 0.],\n",
              "       [0., 0., 0., ..., 1., 0., 0.],\n",
              "       ...,\n",
              "       [0., 0., 0., ..., 0., 0., 0.],\n",
              "       [0., 0., 0., ..., 0., 0., 0.],\n",
              "       [0., 0., 0., ..., 1., 0., 0.]])"
            ]
          },
          "metadata": {},
          "execution_count": 28
        }
      ]
    },
    {
      "cell_type": "code",
      "metadata": {
        "id": "FolyBAmH33uO",
        "colab": {
          "base_uri": "https://localhost:8080/"
        },
        "outputId": "61dde912-8288-4615-96a2-214e045e527e"
      },
      "source": [
        "crime_catS_1hot.toarray()"
      ],
      "execution_count": null,
      "outputs": [
        {
          "output_type": "execute_result",
          "data": {
            "text/plain": [
              "array([[0., 0., 0., ..., 0., 0., 0.],\n",
              "       [0., 0., 0., ..., 0., 0., 0.],\n",
              "       [0., 0., 0., ..., 0., 0., 0.],\n",
              "       ...,\n",
              "       [0., 0., 0., ..., 0., 0., 0.],\n",
              "       [0., 0., 0., ..., 0., 0., 0.],\n",
              "       [0., 0., 0., ..., 0., 0., 0.]])"
            ]
          },
          "metadata": {},
          "execution_count": 29
        }
      ]
    },
    {
      "cell_type": "code",
      "metadata": {
        "id": "SSqOTRYb4g1f",
        "colab": {
          "base_uri": "https://localhost:8080/"
        },
        "outputId": "093f17f7-004a-4b61-82fa-fbcd3019c22d"
      },
      "source": [
        "cat_encoderO = OneHotEncoder(sparse=False)\n",
        "housing_catO_1hot = cat_encoderO.fit_transform(crime_catO)\n",
        "housing_catO_1hot"
      ],
      "execution_count": null,
      "outputs": [
        {
          "output_type": "execute_result",
          "data": {
            "text/plain": [
              "array([[0., 0., 0., ..., 0., 0., 0.],\n",
              "       [0., 0., 0., ..., 0., 0., 0.],\n",
              "       [0., 0., 0., ..., 1., 0., 0.],\n",
              "       ...,\n",
              "       [0., 0., 0., ..., 0., 0., 0.],\n",
              "       [0., 0., 0., ..., 0., 0., 0.],\n",
              "       [0., 0., 0., ..., 1., 0., 0.]])"
            ]
          },
          "metadata": {},
          "execution_count": 30
        }
      ]
    },
    {
      "cell_type": "code",
      "metadata": {
        "id": "_-Qcjq1q4wxC",
        "colab": {
          "base_uri": "https://localhost:8080/",
          "height": 35
        },
        "outputId": "aa3126aa-493a-4686-dc6d-d5987a92d7c1"
      },
      "source": [
        "cat_encoderO.categories"
      ],
      "execution_count": null,
      "outputs": [
        {
          "output_type": "execute_result",
          "data": {
            "application/vnd.google.colaboratory.intrinsic+json": {
              "type": "string"
            },
            "text/plain": [
              "'auto'"
            ]
          },
          "metadata": {},
          "execution_count": 31
        }
      ]
    },
    {
      "cell_type": "code",
      "metadata": {
        "id": "iXvuEt857w8V"
      },
      "source": [
        "from sklearn.pipeline import Pipeline\n",
        "from sklearn.preprocessing import StandardScaler\n",
        "num_pipeline = Pipeline([\n",
        "        ('imputer', SimpleImputer(strategy=\"most_frequent\")),\n",
        "        ('std_scaler', StandardScaler()),\n",
        "    ])\n",
        "cat_pipeline = Pipeline([\n",
        "        ('imputer', SimpleImputer(strategy=\"most_frequent\")),\n",
        "        ('one_hot_encoder',OneHotEncoder(handle_unknown='ignore')) \n",
        "    ])"
      ],
      "execution_count": null,
      "outputs": []
    },
    {
      "cell_type": "code",
      "metadata": {
        "id": "gwEEhoxTNIhi"
      },
      "source": [
        ""
      ],
      "execution_count": null,
      "outputs": []
    },
    {
      "cell_type": "code",
      "metadata": {
        "id": "FKsJr3_n46vG",
        "colab": {
          "base_uri": "https://localhost:8080/"
        },
        "outputId": "015f277f-736d-4627-a865-0a138ee034fc"
      },
      "source": [
        "from sklearn.compose import ColumnTransformer\n",
        "num_attribs = ['BlockNumber', 'Year','Month','DOW']\n",
        "cat_attribs = [\"Offense\",\"StreetName\"]\n",
        "\n",
        "\n",
        "\n",
        "full_pipeline = ColumnTransformer([\n",
        "        (\"num\", num_pipeline, num_attribs),\n",
        "        (\"cat\", cat_pipeline, cat_attribs),\n",
        "    ])\n",
        "\n",
        "crime_prep = full_pipeline.fit_transform(crime)\n",
        "crime_test_prep=full_pipeline.transform(crime_test)\n",
        "crime_prep"
      ],
      "execution_count": null,
      "outputs": [
        {
          "output_type": "execute_result",
          "data": {
            "text/plain": [
              "<20529x2896 sparse matrix of type '<class 'numpy.float64'>'\n",
              "\twith 123174 stored elements in Compressed Sparse Row format>"
            ]
          },
          "metadata": {},
          "execution_count": 33
        }
      ]
    },
    {
      "cell_type": "code",
      "metadata": {
        "id": "rybB-jV--vap",
        "colab": {
          "base_uri": "https://localhost:8080/"
        },
        "outputId": "f06499f3-32c0-45af-e510-04d910e6721a"
      },
      "source": [
        "print(crime.shape)\n",
        "print(crime_prep.shape)"
      ],
      "execution_count": null,
      "outputs": [
        {
          "output_type": "stream",
          "name": "stdout",
          "text": [
            "(20529, 6)\n",
            "(20529, 2896)\n"
          ]
        }
      ]
    },
    {
      "cell_type": "code",
      "metadata": {
        "id": "GSFNnt1U-vVd",
        "colab": {
          "base_uri": "https://localhost:8080/"
        },
        "outputId": "75b7d798-19e5-4a58-f345-6b50f908effa"
      },
      "source": [
        "from sklearn.linear_model import LinearRegression\n",
        "\n",
        "lin_reg = LinearRegression()\n",
        "lin_reg.fit(crime_prep, crime_labels)"
      ],
      "execution_count": null,
      "outputs": [
        {
          "output_type": "execute_result",
          "data": {
            "text/plain": [
              "LinearRegression()"
            ]
          },
          "metadata": {},
          "execution_count": 35
        }
      ]
    },
    {
      "cell_type": "code",
      "metadata": {
        "id": "hB_fNSgfqTux",
        "colab": {
          "base_uri": "https://localhost:8080/"
        },
        "outputId": "696398a4-14f4-4f95-8b21-36d6ec3e83aa"
      },
      "source": [
        "from sklearn.metrics import *\n",
        "\n",
        "crime_predictions = lin_reg.predict(crime_prep)\n",
        "print(crime_predictions)\n",
        "lin_mse = mean_squared_error(crime_labels, crime_predictions)\n",
        "lin_rmse = np.sqrt(lin_mse)\n",
        "lin_rmse/24 #rmse when predicting with x train"
      ],
      "execution_count": null,
      "outputs": [
        {
          "output_type": "stream",
          "name": "stdout",
          "text": [
            "[11.76432747 12.10173994 13.14154007 ... 13.32188835 14.01639029\n",
            " 12.99791235]\n"
          ]
        },
        {
          "output_type": "execute_result",
          "data": {
            "text/plain": [
              "0.23246921427294068"
            ]
          },
          "metadata": {},
          "execution_count": 36
        }
      ]
    },
    {
      "cell_type": "code",
      "metadata": {
        "id": "YShzi9G8Qw9F",
        "colab": {
          "base_uri": "https://localhost:8080/"
        },
        "outputId": "a7531ab7-7959-4249-f38f-351a3dfc72d2"
      },
      "source": [
        "print(len(crime_predictions))"
      ],
      "execution_count": null,
      "outputs": [
        {
          "output_type": "stream",
          "name": "stdout",
          "text": [
            "20529\n"
          ]
        }
      ]
    },
    {
      "cell_type": "code",
      "metadata": {
        "id": "uAb93ycKRXw4",
        "colab": {
          "base_uri": "https://localhost:8080/"
        },
        "outputId": "e13afb52-6586-4385-ba48-233cc15cc5b6"
      },
      "source": [
        "print(crime_predictions[0:20000])"
      ],
      "execution_count": null,
      "outputs": [
        {
          "output_type": "stream",
          "name": "stdout",
          "text": [
            "[ 1.17643275e+01  1.21017399e+01  1.31415401e+01 ... -1.53614117e-04\n",
            "  1.57006768e+01  1.41261088e+01]\n"
          ]
        }
      ]
    },
    {
      "cell_type": "code",
      "metadata": {
        "id": "Md0Ez4XUqSki",
        "colab": {
          "base_uri": "https://localhost:8080/"
        },
        "outputId": "14161d15-e62e-4dc1-cacb-51f0dc08d537"
      },
      "source": [
        "lin_reg = LinearRegression()\n",
        "lin_reg.fit(crime_prep, crime_labels)\n",
        "crime_predictions2 = lin_reg.predict(crime_test_prep)\n",
        "print(crime_predictions2)\n",
        "lin_mse = mean_squared_error(test_labels, crime_predictions2)\n",
        "lin_rmse = np.sqrt(lin_mse)\n",
        "lin_rmse/24 #rmse when predicting on x test"
      ],
      "execution_count": null,
      "outputs": [
        {
          "output_type": "stream",
          "name": "stdout",
          "text": [
            "[13.25434531 13.93515612 13.70893313 ... 11.96150367 12.97401568\n",
            " 13.30602056]\n"
          ]
        },
        {
          "output_type": "execute_result",
          "data": {
            "text/plain": [
              "0.2618601572452004"
            ]
          },
          "metadata": {},
          "execution_count": 39
        }
      ]
    },
    {
      "cell_type": "code",
      "metadata": {
        "id": "wdV2XiS4qgNX",
        "colab": {
          "base_uri": "https://localhost:8080/"
        },
        "outputId": "f145537e-50d9-4e36-9adc-43ef89ce91ef"
      },
      "source": [
        "from sklearn.model_selection import cross_val_score\n",
        "def display_scores(scores):\n",
        "    print(\"Scores:\", scores)\n",
        "    print(\"Mean:\", scores.mean())\n",
        "    print(\"Standard deviation:\", scores.std())\n",
        "\n",
        "lin_scores = cross_val_score(lin_reg, crime_prep, crime_labels,\n",
        "                             scoring=\"neg_mean_squared_error\", cv=5)\n",
        "lin_rmse_scores = np.sqrt(-lin_scores)\n",
        "display_scores(lin_rmse_scores)\n"
      ],
      "execution_count": null,
      "outputs": [
        {
          "output_type": "stream",
          "name": "stdout",
          "text": [
            "Scores: [6.23540537 6.36577749 6.3411587  6.20048745 6.29815023]\n",
            "Mean: 6.288195845068263\n",
            "Standard deviation: 0.062293919690075035\n"
          ]
        }
      ]
    },
    {
      "cell_type": "code",
      "metadata": {
        "id": "fjEY9_-5x6RR",
        "colab": {
          "base_uri": "https://localhost:8080/"
        },
        "outputId": "7c3aa564-085b-420a-c69f-820ec994e591"
      },
      "source": [
        "from sklearn.ensemble import RandomForestRegressor\n",
        "\n",
        "forest_reg = RandomForestRegressor(n_estimators=100, random_state=42)\n",
        "forest_reg.fit(crime_prep, crime_labels)"
      ],
      "execution_count": null,
      "outputs": [
        {
          "output_type": "execute_result",
          "data": {
            "text/plain": [
              "RandomForestRegressor(random_state=42)"
            ]
          },
          "metadata": {},
          "execution_count": 41
        }
      ]
    },
    {
      "cell_type": "code",
      "metadata": {
        "id": "kiAbT7r4yAzP",
        "colab": {
          "base_uri": "https://localhost:8080/"
        },
        "outputId": "88429b7b-32ae-451b-bd96-63ddc0589d60"
      },
      "source": [
        "crime_predict = forest_reg.predict(crime_prep)\n",
        "forest_mse = mean_squared_error(crime_labels, crime_predict)\n",
        "forest_rmse = np.sqrt(forest_mse)\n",
        "forest_rmse/24 #rmse using train data"
      ],
      "execution_count": null,
      "outputs": [
        {
          "output_type": "execute_result",
          "data": {
            "text/plain": [
              "0.09947928061209453"
            ]
          },
          "metadata": {},
          "execution_count": 42
        }
      ]
    },
    {
      "cell_type": "code",
      "metadata": {
        "id": "XURuTUH3MKXE"
      },
      "source": [
        "forest_scores = cross_val_score(forest_reg, crime_prep, crime_labels,\n",
        "                             scoring=\"neg_mean_squared_error\", cv=3)\n",
        "forest_rmse_scores = np.sqrt(-forest_scores)\n",
        "display_scores(forest_rmse_scores)"
      ],
      "execution_count": null,
      "outputs": []
    },
    {
      "cell_type": "code",
      "metadata": {
        "id": "bd5tYqNergxe",
        "colab": {
          "base_uri": "https://localhost:8080/"
        },
        "outputId": "4337f888-5d48-490c-f687-263a25ea0b7b"
      },
      "source": [
        "crime_predict2 = forest_reg.predict(crime_test_prep)\n",
        "\n",
        "forest_mse2 = mean_squared_error(test_labels, crime_predict2)\n",
        "forest_rmse2 = np.sqrt(forest_mse2)\n",
        "forest_rmse2/24 #rmse with test data"
      ],
      "execution_count": null,
      "outputs": [
        {
          "output_type": "execute_result",
          "data": {
            "text/plain": [
              "0.2599497559967732"
            ]
          },
          "metadata": {},
          "execution_count": 43
        }
      ]
    },
    {
      "cell_type": "code",
      "metadata": {
        "id": "WXooZ_oIQan8",
        "colab": {
          "base_uri": "https://localhost:8080/"
        },
        "outputId": "0979a5c4-8d8a-4578-9491-e8a874814235"
      },
      "source": [
        "from sklearn.linear_model import Ridge\n",
        "clf=Ridge(alpha=1, solver='sparse_cg')\n",
        "clf.fit(crime_prep, crime_labels)"
      ],
      "execution_count": null,
      "outputs": [
        {
          "output_type": "execute_result",
          "data": {
            "text/plain": [
              "Ridge(alpha=1, solver='sparse_cg')"
            ]
          },
          "metadata": {},
          "execution_count": 44
        }
      ]
    },
    {
      "cell_type": "code",
      "metadata": {
        "id": "KRlPq2E1TdaA",
        "colab": {
          "base_uri": "https://localhost:8080/"
        },
        "outputId": "f198c8db-92d9-4087-dcc9-0064ec6ea529"
      },
      "source": [
        "crime_predict3 = clf.predict(crime_prep)\n",
        "ridge_mse=mean_squared_error(crime_labels, crime_predict3)\n",
        "ridge_rmse = np.sqrt(ridge_mse)\n",
        "ridge_rmse/24"
      ],
      "execution_count": null,
      "outputs": [
        {
          "output_type": "execute_result",
          "data": {
            "text/plain": [
              "0.23563705041413377"
            ]
          },
          "metadata": {},
          "execution_count": 45
        }
      ]
    },
    {
      "cell_type": "code",
      "metadata": {
        "id": "9VNhwghuRSNy",
        "colab": {
          "base_uri": "https://localhost:8080/"
        },
        "outputId": "d77a881e-965c-4121-ffb5-1f8caf80eea7"
      },
      "source": [
        "crime_predict4 = clf.predict(crime_test_prep)\n",
        "ridge_mse2=mean_squared_error(test_labels, crime_predict4)\n",
        "ridge_rmse2 = np.sqrt(ridge_mse2)\n",
        "ridge_rmse2/24"
      ],
      "execution_count": null,
      "outputs": [
        {
          "output_type": "execute_result",
          "data": {
            "text/plain": [
              "0.2561522942245249"
            ]
          },
          "metadata": {},
          "execution_count": 46
        }
      ]
    },
    {
      "cell_type": "code",
      "metadata": {
        "id": "Y90UoTyfRjou",
        "colab": {
          "base_uri": "https://localhost:8080/"
        },
        "outputId": "8cc600a7-8979-4fdf-e632-1c31eca71ac6"
      },
      "source": [
        "from sklearn.neighbors import RadiusNeighborsRegressor\n",
        "neigh = RadiusNeighborsRegressor(radius=10)\n",
        "neigh.fit(crime_prep, crime_labels)\n",
        "crime_predict5 = neigh.predict(crime_prep)\n",
        "neigh_mse=mean_squared_error(crime_labels, crime_predict5)\n",
        "neigh_rmse = np.sqrt(neigh_mse)\n",
        "neigh_rmse/24"
      ],
      "execution_count": null,
      "outputs": [
        {
          "output_type": "execute_result",
          "data": {
            "text/plain": [
              "0.2559313248085458"
            ]
          },
          "metadata": {},
          "execution_count": 47
        }
      ]
    },
    {
      "cell_type": "code",
      "metadata": {
        "id": "AK6gnqPzjRBc",
        "colab": {
          "base_uri": "https://localhost:8080/"
        },
        "outputId": "fbe53b17-969c-4c72-d441-76dce3353f80"
      },
      "source": [
        "crime_predict6 = neigh.predict(crime_test_prep)\n",
        "neigh_mse2=mean_squared_error(test_labels, crime_predict6)\n",
        "neigh_rmse2 = np.sqrt(neigh_mse2)\n",
        "neigh_rmse2/24"
      ],
      "execution_count": null,
      "outputs": [
        {
          "output_type": "execute_result",
          "data": {
            "text/plain": [
              "0.25512075983607896"
            ]
          },
          "metadata": {},
          "execution_count": 48
        }
      ]
    },
    {
      "cell_type": "code",
      "metadata": {
        "id": "9JZC0jGRjm0i",
        "colab": {
          "base_uri": "https://localhost:8080/"
        },
        "outputId": "381ea95a-c827-463e-826c-48ad81de6ea8"
      },
      "source": [
        "from sklearn.model_selection import GridSearchCV\n",
        "\n",
        "param_grid = {'n_estimators': [100, 300], 'max_features': [16,128,512,1028]}\n",
        "#param_grid={'bootstrap': [False], 'n_estimators': [3, 100], 'max_features': [2, 3, 5]}\n",
        "  \n",
        "\n",
        "forest_reg = RandomForestRegressor(random_state=42)\n",
        "grid_search = GridSearchCV(forest_reg, param_grid, cv=3,\n",
        "                           scoring='neg_mean_squared_error',\n",
        "                           return_train_score=True)\n",
        "grid_search.fit(crime_prep, crime_labels)"
      ],
      "execution_count": null,
      "outputs": [
        {
          "output_type": "execute_result",
          "data": {
            "text/plain": [
              "GridSearchCV(cv=3, estimator=RandomForestRegressor(random_state=42),\n",
              "             param_grid={'max_features': [16, 128, 512, 1028],\n",
              "                         'n_estimators': [100, 300]},\n",
              "             return_train_score=True, scoring='neg_mean_squared_error')"
            ]
          },
          "metadata": {},
          "execution_count": 52
        }
      ]
    },
    {
      "cell_type": "code",
      "metadata": {
        "id": "IyGIkqCL2wT0",
        "colab": {
          "base_uri": "https://localhost:8080/"
        },
        "outputId": "644af0da-68d0-4a68-c2bd-2e680de8c4f2"
      },
      "source": [
        "grid_search.best_params_"
      ],
      "execution_count": null,
      "outputs": [
        {
          "output_type": "execute_result",
          "data": {
            "text/plain": [
              "{'max_features': 16, 'n_estimators': 300}"
            ]
          },
          "metadata": {},
          "execution_count": 53
        }
      ]
    },
    {
      "cell_type": "code",
      "metadata": {
        "id": "T0s5_tBd2yLj",
        "colab": {
          "base_uri": "https://localhost:8080/"
        },
        "outputId": "8a8dd1b9-1aa3-4ed2-89ca-9788461a0518"
      },
      "source": [
        "grid_search.best_estimator_"
      ],
      "execution_count": null,
      "outputs": [
        {
          "output_type": "execute_result",
          "data": {
            "text/plain": [
              "RandomForestRegressor(max_features=16, n_estimators=300, random_state=42)"
            ]
          },
          "metadata": {},
          "execution_count": 54
        }
      ]
    },
    {
      "cell_type": "code",
      "metadata": {
        "id": "E_MYxmWz20g4",
        "colab": {
          "base_uri": "https://localhost:8080/"
        },
        "outputId": "dcabf84b-b075-4886-92ba-2259e2f2a756"
      },
      "source": [
        "cvres = grid_search.cv_results_\n",
        "# zip() is to combine the column \"mean_test_score\" with struct \"params\"\n",
        "for mean_score, params in zip(cvres[\"mean_test_score\"], cvres[\"params\"]):\n",
        "    print(np.sqrt(-mean_score)/24, params)#3.107130194228893 FOURTH"
      ],
      "execution_count": null,
      "outputs": [
        {
          "output_type": "stream",
          "name": "stdout",
          "text": [
            "0.2558862481375839 {'max_features': 16, 'n_estimators': 100}\n",
            "0.25501099205698724 {'max_features': 16, 'n_estimators': 300}\n",
            "0.25651989133535685 {'max_features': 128, 'n_estimators': 100}\n",
            "0.2561139704758456 {'max_features': 128, 'n_estimators': 300}\n",
            "0.2591116452859979 {'max_features': 512, 'n_estimators': 100}\n",
            "0.2583169543442433 {'max_features': 512, 'n_estimators': 300}\n",
            "0.2603430228842101 {'max_features': 1028, 'n_estimators': 100}\n",
            "0.25973260054123265 {'max_features': 1028, 'n_estimators': 300}\n"
          ]
        }
      ]
    },
    {
      "cell_type": "code",
      "metadata": {
        "id": "3ztiu3S83dVx",
        "colab": {
          "base_uri": "https://localhost:8080/"
        },
        "outputId": "244e67b1-4e7d-4076-8028-8703a006e485"
      },
      "source": [
        "final_model = grid_search.best_estimator_\n",
        "final_predictions = final_model.predict(crime_test_prep)\n",
        "final_mse = mean_squared_error(test_labels, final_predictions)\n",
        "final_rmse = np.sqrt(final_mse)\n",
        "final_rmse/24"
      ],
      "execution_count": null,
      "outputs": [
        {
          "output_type": "execute_result",
          "data": {
            "text/plain": [
              "0.25383597463816887"
            ]
          },
          "metadata": {},
          "execution_count": 56
        }
      ]
    },
    {
      "cell_type": "code",
      "metadata": {
        "id": "k_hFtAXNH1sg",
        "colab": {
          "base_uri": "https://localhost:8080/"
        },
        "outputId": "82b80c71-6859-4f43-9b2b-7b807b0c0618"
      },
      "source": [
        "from sklearn.svm import SVR \n",
        "regr = SVR(C=1.0,epsilon=.2)\n",
        "regr.fit(crime_prep, crime_labels)\n",
        "pred6=regr.predict(crime_test_prep)\n",
        "mse6=mean_squared_error(test_labels, pred6)\n",
        "rmse6=np.sqrt(mse6)\n",
        "rmse6/24"
      ],
      "execution_count": null,
      "outputs": [
        {
          "output_type": "execute_result",
          "data": {
            "text/plain": [
              "0.2516814679888257"
            ]
          },
          "metadata": {},
          "execution_count": 51
        }
      ]
    },
    {
      "cell_type": "code",
      "metadata": {
        "id": "3g0MYRAhWCrO",
        "colab": {
          "base_uri": "https://localhost:8080/"
        },
        "outputId": "58b24014-9b65-413c-bb51-225c754287f8"
      },
      "source": [
        "from sklearn.model_selection import GridSearchCV\n",
        "\n",
        "param_grid = {'C': [1, 10, 100], 'epsilon': [.0001, .001, .01, .1, .3]}\n",
        "#param_grid={'bootstrap': [False], 'n_estimators': [3, 100], 'max_features': [2, 3, 5]}\n",
        "  \n",
        "\n",
        "regr2 = SVR()\n",
        "grid_search2 = GridSearchCV(regr2, param_grid, cv=3,\n",
        "                           scoring='neg_mean_squared_error',\n",
        "                           return_train_score=True)\n",
        "grid_search2.fit(crime_prep, crime_labels)"
      ],
      "execution_count": null,
      "outputs": [
        {
          "output_type": "execute_result",
          "data": {
            "text/plain": [
              "GridSearchCV(cv=3, estimator=SVR(),\n",
              "             param_grid={'C': [1, 10, 100],\n",
              "                         'epsilon': [0.0001, 0.001, 0.01, 0.1, 0.3]},\n",
              "             return_train_score=True, scoring='neg_mean_squared_error')"
            ]
          },
          "metadata": {},
          "execution_count": 59
        }
      ]
    },
    {
      "cell_type": "code",
      "metadata": {
        "colab": {
          "base_uri": "https://localhost:8080/"
        },
        "id": "UQCu2I1iJXhC",
        "outputId": "14e8cc3f-ac6a-4968-c5c6-6f59981315b2"
      },
      "source": [
        "final_model2 = grid_search2.best_estimator_\n",
        "final_predictions2 = final_model2.predict(crime_prep)\n",
        "final_mse2 = mean_squared_error(crime_labels, final_predictions2)\n",
        "final_rmse2 = np.sqrt(final_mse2)\n",
        "final_rmse2/24"
      ],
      "execution_count": null,
      "outputs": [
        {
          "output_type": "execute_result",
          "data": {
            "text/plain": [
              "0.24248267204788373"
            ]
          },
          "metadata": {},
          "execution_count": 61
        }
      ]
    },
    {
      "cell_type": "code",
      "metadata": {
        "colab": {
          "base_uri": "https://localhost:8080/"
        },
        "id": "EE_Z2DydJ4O1",
        "outputId": "77dd3d61-c97c-42b8-f9b9-a6959868dffa"
      },
      "source": [
        "final_model2 = grid_search2.best_estimator_\n",
        "final_predictions2 = final_model2.predict(crime_test_prep)\n",
        "final_mse2 = mean_squared_error(test_labels, final_predictions2)\n",
        "final_rmse2 = np.sqrt(final_mse2)\n",
        "final_rmse2/24"
      ],
      "execution_count": null,
      "outputs": [
        {
          "output_type": "execute_result",
          "data": {
            "text/plain": [
              "0.2516108087793398"
            ]
          },
          "metadata": {},
          "execution_count": 62
        }
      ]
    }
  ]
}